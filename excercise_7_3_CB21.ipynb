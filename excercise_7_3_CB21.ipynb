{
 "cells": [
  {
   "cell_type": "code",
   "execution_count": null,
   "metadata": {},
   "outputs": [
    {
     "name": "stdout",
     "output_type": "stream",
     "text": [
      "Il valore di a che massimizza la verosimiglianza è: 514.3354320695529\n",
      "Il valore di b che massimizza la verosimiglianza è: 0.04494009992910619\n"
     ]
    }
   ],
   "source": [
    "import numpy as np\n",
    "from scipy.special import digamma\n",
    "from scipy.optimize import newton\n",
    "\n",
    "\n",
    "xi_values = np.array([22.0, 23.9, 20.9, 23.8, 25.0, 24.0, 21.7, 23.8, 22.8, 23.1, 23.1, 23.5, 23.0, 23.0])\n",
    "ln_sum_xi = np.sum(np.log(xi_values))\n",
    "sum_xi = np.sum(xi_values)\n",
    "n = 14\n",
    "\n",
    "\n",
    "def log_likelihood_derivative(alpha):\n",
    "\n",
    "    term1 = -n * digamma(alpha)  \n",
    "    term2 = -n * (np.log(sum_xi) - np.log(n * alpha))  + n\n",
    "    term3 = ln_sum_xi\n",
    "    term4 = -n\n",
    "    \n",
    "    return term1 + term2 + term3 + term4 \n",
    "\n",
    "initial_guess = 1.0  \n",
    "alpha_hat  = newton(log_likelihood_derivative, initial_guess)\n",
    "beta_hat = sum_xi / (n * alpha_hat)\n",
    "\n",
    "print(f\"Il valore di a che massimizza la verosimiglianza è: {alpha_hat}\")\n",
    "print(f\"Il valore di b che massimizza la verosimiglianza è: {beta_hat}\")"
   ]
  },
  {
   "cell_type": "code",
   "execution_count": null,
   "metadata": {},
   "outputs": [],
   "source": []
  }
 ],
 "metadata": {
  "kernelspec": {
   "display_name": "Python 3",
   "language": "python",
   "name": "python3"
  },
  "language_info": {
   "codemirror_mode": {
    "name": "ipython",
    "version": 3
   },
   "file_extension": ".py",
   "mimetype": "text/x-python",
   "name": "python",
   "nbconvert_exporter": "python",
   "pygments_lexer": "ipython3",
   "version": "3.11.3"
  }
 },
 "nbformat": 4,
 "nbformat_minor": 2
}
