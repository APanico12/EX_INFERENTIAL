{
 "cells": [
  {
   "cell_type": "code",
   "execution_count": 23,
   "metadata": {},
   "outputs": [
    {
     "data": {
      "text/plain": [
       "0.015201188828006033"
      ]
     },
     "execution_count": 23,
     "metadata": {},
     "output_type": "execute_result"
    }
   ],
   "source": [
    "import numpy as np\n",
    "a = 1.\n",
    "b = 3.\n",
    "n = 10\n",
    "n_sims = 10**6\n",
    "samples = np.random.uniform(low=a, high=b, size=[n_sims, n])\n",
    "a_mle = np.min(samples, axis=1) \n",
    "b_mle = np.max(samples, axis=1) \n",
    "tau = (a + b ) / 2. \n",
    "tau_mle = (a_mle + b_mle) / 2. \n",
    "mse = np.mean((tau_mle - tau)**2)\n",
    "mse"
   ]
  }
 ],
 "metadata": {
  "kernelspec": {
   "display_name": "Python 3",
   "language": "python",
   "name": "python3"
  },
  "language_info": {
   "codemirror_mode": {
    "name": "ipython",
    "version": 3
   },
   "file_extension": ".py",
   "mimetype": "text/x-python",
   "name": "python",
   "nbconvert_exporter": "python",
   "pygments_lexer": "ipython3",
   "version": "3.11.3"
  }
 },
 "nbformat": 4,
 "nbformat_minor": 2
}
